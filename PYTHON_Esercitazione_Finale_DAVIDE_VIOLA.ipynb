{
 "cells": [
  {
   "cell_type": "code",
   "execution_count": 1,
   "id": "f6d0e5ef-636e-4ef8-b29d-0b5715c1693e",
   "metadata": {},
   "outputs": [],
   "source": [
    "import pandas as pd\n",
    "import numpy as np\n",
    "import seaborn as sns\n"
   ]
  },
  {
   "cell_type": "code",
   "execution_count": 2,
   "id": "c581866c-5cf2-4ea9-8057-044deade0bc6",
   "metadata": {},
   "outputs": [
    {
     "data": {
      "text/html": [
       "<div>\n",
       "<style scoped>\n",
       "    .dataframe tbody tr th:only-of-type {\n",
       "        vertical-align: middle;\n",
       "    }\n",
       "\n",
       "    .dataframe tbody tr th {\n",
       "        vertical-align: top;\n",
       "    }\n",
       "\n",
       "    .dataframe thead th {\n",
       "        text-align: right;\n",
       "    }\n",
       "</style>\n",
       "<table border=\"1\" class=\"dataframe\">\n",
       "  <thead>\n",
       "    <tr style=\"text-align: right;\">\n",
       "      <th></th>\n",
       "      <th>iso_code</th>\n",
       "      <th>continent</th>\n",
       "      <th>location</th>\n",
       "      <th>date</th>\n",
       "      <th>total_cases</th>\n",
       "      <th>new_cases</th>\n",
       "      <th>new_cases_smoothed</th>\n",
       "      <th>total_deaths</th>\n",
       "      <th>new_deaths</th>\n",
       "      <th>new_deaths_smoothed</th>\n",
       "      <th>...</th>\n",
       "      <th>male_smokers</th>\n",
       "      <th>handwashing_facilities</th>\n",
       "      <th>hospital_beds_per_thousand</th>\n",
       "      <th>life_expectancy</th>\n",
       "      <th>human_development_index</th>\n",
       "      <th>population</th>\n",
       "      <th>excess_mortality_cumulative_absolute</th>\n",
       "      <th>excess_mortality_cumulative</th>\n",
       "      <th>excess_mortality</th>\n",
       "      <th>excess_mortality_cumulative_per_million</th>\n",
       "    </tr>\n",
       "  </thead>\n",
       "  <tbody>\n",
       "    <tr>\n",
       "      <th>0</th>\n",
       "      <td>AFG</td>\n",
       "      <td>Asia</td>\n",
       "      <td>Afghanistan</td>\n",
       "      <td>2020-01-05</td>\n",
       "      <td>0.0</td>\n",
       "      <td>0.0</td>\n",
       "      <td>NaN</td>\n",
       "      <td>0.0</td>\n",
       "      <td>0.0</td>\n",
       "      <td>NaN</td>\n",
       "      <td>...</td>\n",
       "      <td>NaN</td>\n",
       "      <td>37.746</td>\n",
       "      <td>0.5</td>\n",
       "      <td>64.83</td>\n",
       "      <td>0.511</td>\n",
       "      <td>41128772</td>\n",
       "      <td>NaN</td>\n",
       "      <td>NaN</td>\n",
       "      <td>NaN</td>\n",
       "      <td>NaN</td>\n",
       "    </tr>\n",
       "    <tr>\n",
       "      <th>1</th>\n",
       "      <td>AFG</td>\n",
       "      <td>Asia</td>\n",
       "      <td>Afghanistan</td>\n",
       "      <td>2020-01-06</td>\n",
       "      <td>0.0</td>\n",
       "      <td>0.0</td>\n",
       "      <td>NaN</td>\n",
       "      <td>0.0</td>\n",
       "      <td>0.0</td>\n",
       "      <td>NaN</td>\n",
       "      <td>...</td>\n",
       "      <td>NaN</td>\n",
       "      <td>37.746</td>\n",
       "      <td>0.5</td>\n",
       "      <td>64.83</td>\n",
       "      <td>0.511</td>\n",
       "      <td>41128772</td>\n",
       "      <td>NaN</td>\n",
       "      <td>NaN</td>\n",
       "      <td>NaN</td>\n",
       "      <td>NaN</td>\n",
       "    </tr>\n",
       "    <tr>\n",
       "      <th>2</th>\n",
       "      <td>AFG</td>\n",
       "      <td>Asia</td>\n",
       "      <td>Afghanistan</td>\n",
       "      <td>2020-01-07</td>\n",
       "      <td>0.0</td>\n",
       "      <td>0.0</td>\n",
       "      <td>NaN</td>\n",
       "      <td>0.0</td>\n",
       "      <td>0.0</td>\n",
       "      <td>NaN</td>\n",
       "      <td>...</td>\n",
       "      <td>NaN</td>\n",
       "      <td>37.746</td>\n",
       "      <td>0.5</td>\n",
       "      <td>64.83</td>\n",
       "      <td>0.511</td>\n",
       "      <td>41128772</td>\n",
       "      <td>NaN</td>\n",
       "      <td>NaN</td>\n",
       "      <td>NaN</td>\n",
       "      <td>NaN</td>\n",
       "    </tr>\n",
       "    <tr>\n",
       "      <th>3</th>\n",
       "      <td>AFG</td>\n",
       "      <td>Asia</td>\n",
       "      <td>Afghanistan</td>\n",
       "      <td>2020-01-08</td>\n",
       "      <td>0.0</td>\n",
       "      <td>0.0</td>\n",
       "      <td>NaN</td>\n",
       "      <td>0.0</td>\n",
       "      <td>0.0</td>\n",
       "      <td>NaN</td>\n",
       "      <td>...</td>\n",
       "      <td>NaN</td>\n",
       "      <td>37.746</td>\n",
       "      <td>0.5</td>\n",
       "      <td>64.83</td>\n",
       "      <td>0.511</td>\n",
       "      <td>41128772</td>\n",
       "      <td>NaN</td>\n",
       "      <td>NaN</td>\n",
       "      <td>NaN</td>\n",
       "      <td>NaN</td>\n",
       "    </tr>\n",
       "    <tr>\n",
       "      <th>4</th>\n",
       "      <td>AFG</td>\n",
       "      <td>Asia</td>\n",
       "      <td>Afghanistan</td>\n",
       "      <td>2020-01-09</td>\n",
       "      <td>0.0</td>\n",
       "      <td>0.0</td>\n",
       "      <td>NaN</td>\n",
       "      <td>0.0</td>\n",
       "      <td>0.0</td>\n",
       "      <td>NaN</td>\n",
       "      <td>...</td>\n",
       "      <td>NaN</td>\n",
       "      <td>37.746</td>\n",
       "      <td>0.5</td>\n",
       "      <td>64.83</td>\n",
       "      <td>0.511</td>\n",
       "      <td>41128772</td>\n",
       "      <td>NaN</td>\n",
       "      <td>NaN</td>\n",
       "      <td>NaN</td>\n",
       "      <td>NaN</td>\n",
       "    </tr>\n",
       "    <tr>\n",
       "      <th>...</th>\n",
       "      <td>...</td>\n",
       "      <td>...</td>\n",
       "      <td>...</td>\n",
       "      <td>...</td>\n",
       "      <td>...</td>\n",
       "      <td>...</td>\n",
       "      <td>...</td>\n",
       "      <td>...</td>\n",
       "      <td>...</td>\n",
       "      <td>...</td>\n",
       "      <td>...</td>\n",
       "      <td>...</td>\n",
       "      <td>...</td>\n",
       "      <td>...</td>\n",
       "      <td>...</td>\n",
       "      <td>...</td>\n",
       "      <td>...</td>\n",
       "      <td>...</td>\n",
       "      <td>...</td>\n",
       "      <td>...</td>\n",
       "      <td>...</td>\n",
       "    </tr>\n",
       "    <tr>\n",
       "      <th>429430</th>\n",
       "      <td>ZWE</td>\n",
       "      <td>Africa</td>\n",
       "      <td>Zimbabwe</td>\n",
       "      <td>2024-07-31</td>\n",
       "      <td>266386.0</td>\n",
       "      <td>0.0</td>\n",
       "      <td>0.0</td>\n",
       "      <td>5740.0</td>\n",
       "      <td>0.0</td>\n",
       "      <td>0.0</td>\n",
       "      <td>...</td>\n",
       "      <td>30.7</td>\n",
       "      <td>36.791</td>\n",
       "      <td>1.7</td>\n",
       "      <td>61.49</td>\n",
       "      <td>0.571</td>\n",
       "      <td>16320539</td>\n",
       "      <td>NaN</td>\n",
       "      <td>NaN</td>\n",
       "      <td>NaN</td>\n",
       "      <td>NaN</td>\n",
       "    </tr>\n",
       "    <tr>\n",
       "      <th>429431</th>\n",
       "      <td>ZWE</td>\n",
       "      <td>Africa</td>\n",
       "      <td>Zimbabwe</td>\n",
       "      <td>2024-08-01</td>\n",
       "      <td>266386.0</td>\n",
       "      <td>0.0</td>\n",
       "      <td>0.0</td>\n",
       "      <td>5740.0</td>\n",
       "      <td>0.0</td>\n",
       "      <td>0.0</td>\n",
       "      <td>...</td>\n",
       "      <td>30.7</td>\n",
       "      <td>36.791</td>\n",
       "      <td>1.7</td>\n",
       "      <td>61.49</td>\n",
       "      <td>0.571</td>\n",
       "      <td>16320539</td>\n",
       "      <td>NaN</td>\n",
       "      <td>NaN</td>\n",
       "      <td>NaN</td>\n",
       "      <td>NaN</td>\n",
       "    </tr>\n",
       "    <tr>\n",
       "      <th>429432</th>\n",
       "      <td>ZWE</td>\n",
       "      <td>Africa</td>\n",
       "      <td>Zimbabwe</td>\n",
       "      <td>2024-08-02</td>\n",
       "      <td>266386.0</td>\n",
       "      <td>0.0</td>\n",
       "      <td>0.0</td>\n",
       "      <td>5740.0</td>\n",
       "      <td>0.0</td>\n",
       "      <td>0.0</td>\n",
       "      <td>...</td>\n",
       "      <td>30.7</td>\n",
       "      <td>36.791</td>\n",
       "      <td>1.7</td>\n",
       "      <td>61.49</td>\n",
       "      <td>0.571</td>\n",
       "      <td>16320539</td>\n",
       "      <td>NaN</td>\n",
       "      <td>NaN</td>\n",
       "      <td>NaN</td>\n",
       "      <td>NaN</td>\n",
       "    </tr>\n",
       "    <tr>\n",
       "      <th>429433</th>\n",
       "      <td>ZWE</td>\n",
       "      <td>Africa</td>\n",
       "      <td>Zimbabwe</td>\n",
       "      <td>2024-08-03</td>\n",
       "      <td>266386.0</td>\n",
       "      <td>0.0</td>\n",
       "      <td>0.0</td>\n",
       "      <td>5740.0</td>\n",
       "      <td>0.0</td>\n",
       "      <td>0.0</td>\n",
       "      <td>...</td>\n",
       "      <td>30.7</td>\n",
       "      <td>36.791</td>\n",
       "      <td>1.7</td>\n",
       "      <td>61.49</td>\n",
       "      <td>0.571</td>\n",
       "      <td>16320539</td>\n",
       "      <td>NaN</td>\n",
       "      <td>NaN</td>\n",
       "      <td>NaN</td>\n",
       "      <td>NaN</td>\n",
       "    </tr>\n",
       "    <tr>\n",
       "      <th>429434</th>\n",
       "      <td>ZWE</td>\n",
       "      <td>Africa</td>\n",
       "      <td>Zimbabwe</td>\n",
       "      <td>2024-08-04</td>\n",
       "      <td>266386.0</td>\n",
       "      <td>0.0</td>\n",
       "      <td>0.0</td>\n",
       "      <td>5740.0</td>\n",
       "      <td>0.0</td>\n",
       "      <td>0.0</td>\n",
       "      <td>...</td>\n",
       "      <td>30.7</td>\n",
       "      <td>36.791</td>\n",
       "      <td>1.7</td>\n",
       "      <td>61.49</td>\n",
       "      <td>0.571</td>\n",
       "      <td>16320539</td>\n",
       "      <td>NaN</td>\n",
       "      <td>NaN</td>\n",
       "      <td>NaN</td>\n",
       "      <td>NaN</td>\n",
       "    </tr>\n",
       "  </tbody>\n",
       "</table>\n",
       "<p>429435 rows × 67 columns</p>\n",
       "</div>"
      ],
      "text/plain": [
       "       iso_code continent     location        date  total_cases  new_cases  \\\n",
       "0           AFG      Asia  Afghanistan  2020-01-05          0.0        0.0   \n",
       "1           AFG      Asia  Afghanistan  2020-01-06          0.0        0.0   \n",
       "2           AFG      Asia  Afghanistan  2020-01-07          0.0        0.0   \n",
       "3           AFG      Asia  Afghanistan  2020-01-08          0.0        0.0   \n",
       "4           AFG      Asia  Afghanistan  2020-01-09          0.0        0.0   \n",
       "...         ...       ...          ...         ...          ...        ...   \n",
       "429430      ZWE    Africa     Zimbabwe  2024-07-31     266386.0        0.0   \n",
       "429431      ZWE    Africa     Zimbabwe  2024-08-01     266386.0        0.0   \n",
       "429432      ZWE    Africa     Zimbabwe  2024-08-02     266386.0        0.0   \n",
       "429433      ZWE    Africa     Zimbabwe  2024-08-03     266386.0        0.0   \n",
       "429434      ZWE    Africa     Zimbabwe  2024-08-04     266386.0        0.0   \n",
       "\n",
       "        new_cases_smoothed  total_deaths  new_deaths  new_deaths_smoothed  \\\n",
       "0                      NaN           0.0         0.0                  NaN   \n",
       "1                      NaN           0.0         0.0                  NaN   \n",
       "2                      NaN           0.0         0.0                  NaN   \n",
       "3                      NaN           0.0         0.0                  NaN   \n",
       "4                      NaN           0.0         0.0                  NaN   \n",
       "...                    ...           ...         ...                  ...   \n",
       "429430                 0.0        5740.0         0.0                  0.0   \n",
       "429431                 0.0        5740.0         0.0                  0.0   \n",
       "429432                 0.0        5740.0         0.0                  0.0   \n",
       "429433                 0.0        5740.0         0.0                  0.0   \n",
       "429434                 0.0        5740.0         0.0                  0.0   \n",
       "\n",
       "        ...  male_smokers  handwashing_facilities  hospital_beds_per_thousand  \\\n",
       "0       ...           NaN                  37.746                         0.5   \n",
       "1       ...           NaN                  37.746                         0.5   \n",
       "2       ...           NaN                  37.746                         0.5   \n",
       "3       ...           NaN                  37.746                         0.5   \n",
       "4       ...           NaN                  37.746                         0.5   \n",
       "...     ...           ...                     ...                         ...   \n",
       "429430  ...          30.7                  36.791                         1.7   \n",
       "429431  ...          30.7                  36.791                         1.7   \n",
       "429432  ...          30.7                  36.791                         1.7   \n",
       "429433  ...          30.7                  36.791                         1.7   \n",
       "429434  ...          30.7                  36.791                         1.7   \n",
       "\n",
       "        life_expectancy  human_development_index  population  \\\n",
       "0                 64.83                    0.511    41128772   \n",
       "1                 64.83                    0.511    41128772   \n",
       "2                 64.83                    0.511    41128772   \n",
       "3                 64.83                    0.511    41128772   \n",
       "4                 64.83                    0.511    41128772   \n",
       "...                 ...                      ...         ...   \n",
       "429430            61.49                    0.571    16320539   \n",
       "429431            61.49                    0.571    16320539   \n",
       "429432            61.49                    0.571    16320539   \n",
       "429433            61.49                    0.571    16320539   \n",
       "429434            61.49                    0.571    16320539   \n",
       "\n",
       "        excess_mortality_cumulative_absolute  excess_mortality_cumulative  \\\n",
       "0                                        NaN                          NaN   \n",
       "1                                        NaN                          NaN   \n",
       "2                                        NaN                          NaN   \n",
       "3                                        NaN                          NaN   \n",
       "4                                        NaN                          NaN   \n",
       "...                                      ...                          ...   \n",
       "429430                                   NaN                          NaN   \n",
       "429431                                   NaN                          NaN   \n",
       "429432                                   NaN                          NaN   \n",
       "429433                                   NaN                          NaN   \n",
       "429434                                   NaN                          NaN   \n",
       "\n",
       "        excess_mortality  excess_mortality_cumulative_per_million  \n",
       "0                    NaN                                      NaN  \n",
       "1                    NaN                                      NaN  \n",
       "2                    NaN                                      NaN  \n",
       "3                    NaN                                      NaN  \n",
       "4                    NaN                                      NaN  \n",
       "...                  ...                                      ...  \n",
       "429430               NaN                                      NaN  \n",
       "429431               NaN                                      NaN  \n",
       "429432               NaN                                      NaN  \n",
       "429433               NaN                                      NaN  \n",
       "429434               NaN                                      NaN  \n",
       "\n",
       "[429435 rows x 67 columns]"
      ]
     },
     "execution_count": 2,
     "metadata": {},
     "output_type": "execute_result"
    }
   ],
   "source": [
    "covid = pd.read_csv(\"owid-covid-data.csv\")\n",
    "covid"
   ]
  },
  {
   "cell_type": "markdown",
   "id": "c2943465-136f-4c2b-aee1-1e17617980c7",
   "metadata": {},
   "source": [
    "<div style=\"background-color: lightblue; padding: 15px; border-radius: 5px;\">\n",
    "\n",
    "\n",
    "### 1) Si richiede di verificare le dimensioni del dataset e i relativi metadati"
   ]
  },
  {
   "cell_type": "code",
   "execution_count": 4,
   "id": "04fe7c56-b9f6-4406-b6b0-837464abe20a",
   "metadata": {},
   "outputs": [
    {
     "data": {
      "text/plain": [
       "(429435, 67)"
      ]
     },
     "execution_count": 4,
     "metadata": {},
     "output_type": "execute_result"
    }
   ],
   "source": [
    "covid.shape"
   ]
  },
  {
   "cell_type": "code",
   "execution_count": 5,
   "id": "915cc039-e4a8-4036-9ad4-64e8c4f36d13",
   "metadata": {},
   "outputs": [
    {
     "data": {
      "text/plain": [
       "['iso_code',\n",
       " 'continent',\n",
       " 'location',\n",
       " 'date',\n",
       " 'total_cases',\n",
       " 'new_cases',\n",
       " 'new_cases_smoothed',\n",
       " 'total_deaths',\n",
       " 'new_deaths',\n",
       " 'new_deaths_smoothed',\n",
       " 'total_cases_per_million',\n",
       " 'new_cases_per_million',\n",
       " 'new_cases_smoothed_per_million',\n",
       " 'total_deaths_per_million',\n",
       " 'new_deaths_per_million',\n",
       " 'new_deaths_smoothed_per_million',\n",
       " 'reproduction_rate',\n",
       " 'icu_patients',\n",
       " 'icu_patients_per_million',\n",
       " 'hosp_patients',\n",
       " 'hosp_patients_per_million',\n",
       " 'weekly_icu_admissions',\n",
       " 'weekly_icu_admissions_per_million',\n",
       " 'weekly_hosp_admissions',\n",
       " 'weekly_hosp_admissions_per_million',\n",
       " 'total_tests',\n",
       " 'new_tests',\n",
       " 'total_tests_per_thousand',\n",
       " 'new_tests_per_thousand',\n",
       " 'new_tests_smoothed',\n",
       " 'new_tests_smoothed_per_thousand',\n",
       " 'positive_rate',\n",
       " 'tests_per_case',\n",
       " 'tests_units',\n",
       " 'total_vaccinations',\n",
       " 'people_vaccinated',\n",
       " 'people_fully_vaccinated',\n",
       " 'total_boosters',\n",
       " 'new_vaccinations',\n",
       " 'new_vaccinations_smoothed',\n",
       " 'total_vaccinations_per_hundred',\n",
       " 'people_vaccinated_per_hundred',\n",
       " 'people_fully_vaccinated_per_hundred',\n",
       " 'total_boosters_per_hundred',\n",
       " 'new_vaccinations_smoothed_per_million',\n",
       " 'new_people_vaccinated_smoothed',\n",
       " 'new_people_vaccinated_smoothed_per_hundred',\n",
       " 'stringency_index',\n",
       " 'population_density',\n",
       " 'median_age',\n",
       " 'aged_65_older',\n",
       " 'aged_70_older',\n",
       " 'gdp_per_capita',\n",
       " 'extreme_poverty',\n",
       " 'cardiovasc_death_rate',\n",
       " 'diabetes_prevalence',\n",
       " 'female_smokers',\n",
       " 'male_smokers',\n",
       " 'handwashing_facilities',\n",
       " 'hospital_beds_per_thousand',\n",
       " 'life_expectancy',\n",
       " 'human_development_index',\n",
       " 'population',\n",
       " 'excess_mortality_cumulative_absolute',\n",
       " 'excess_mortality_cumulative',\n",
       " 'excess_mortality',\n",
       " 'excess_mortality_cumulative_per_million']"
      ]
     },
     "execution_count": 5,
     "metadata": {},
     "output_type": "execute_result"
    }
   ],
   "source": [
    "list(covid.columns)"
   ]
  },
  {
   "cell_type": "markdown",
   "id": "729cd7ff-6210-49ad-9bb2-c5fa2db7816a",
   "metadata": {},
   "source": [
    "<div style=\"background-color: lightblue; padding: 15px; border-radius: 5px;\">\n",
    "\n",
    "### 2) Si chiede di trovare, per ogni continente: \n",
    "- ##### il numero di casi fin dall'inizio della pandemia\n",
    "- ##### la percentuale rispetto al totale mondiale del numero di casi"
   ]
  },
  {
   "cell_type": "code",
   "execution_count": 7,
   "id": "77fa6734-4c8e-4886-9225-565697cefb34",
   "metadata": {},
   "outputs": [
    {
     "data": {
      "text/plain": [
       "continent\n",
       "Africa             4072765.0\n",
       "Asia              99373219.0\n",
       "Europe            38997490.0\n",
       "North America    103436829.0\n",
       "Oceania           11861161.0\n",
       "South America     37511921.0\n",
       "Name: total_cases, dtype: float64"
      ]
     },
     "execution_count": 7,
     "metadata": {},
     "output_type": "execute_result"
    }
   ],
   "source": [
    "# numero di casi fin dall'inizio della pandemia\n",
    "flt_continent = covid.groupby(\"continent\")[\"total_cases\"].max()\n",
    "flt_continent"
   ]
  },
  {
   "cell_type": "code",
   "execution_count": 8,
   "id": "78681555-2afb-4e2e-8230-761391da1357",
   "metadata": {},
   "outputs": [
    {
     "data": {
      "text/plain": [
       "continent\n",
       "Africa            1.38\n",
       "Asia             33.66\n",
       "Europe           13.21\n",
       "North America    35.03\n",
       "Oceania           4.02\n",
       "South America    12.70\n",
       "Name: total_cases, dtype: float64"
      ]
     },
     "execution_count": 8,
     "metadata": {},
     "output_type": "execute_result"
    }
   ],
   "source": [
    "# percentuale rispetto al totale mondiale del numero di casi\n",
    "total_cases = flt_continent.sum()\n",
    "percentages_cases_continent = round((flt_continent/total_cases)*100,2)\n",
    "percentages_cases_continent"
   ]
  },
  {
   "cell_type": "markdown",
   "id": "b2da1d57-7a2f-443e-b2d5-6f15f22af87b",
   "metadata": {},
   "source": [
    "<div style=\"background-color: lightblue; padding: 15px; border-radius: 5px;\">\n",
    "\n",
    "\n",
    "### 3)Selezionare i dati relativi all'Italia nel 2022 e mostrare con dei grafici adeguati: \n",
    "-  ##### l'evoluzione del casi totali dall'inizio alla fine dell'anno\n",
    "-  ##### il numero di nuovi casi rispetto alla data; poiché i nuovi casi vengono registrati settimanalmente, filtrare via i dati che non hanno misurazioni"
   ]
  },
  {
   "cell_type": "code",
   "execution_count": 10,
   "id": "fb0df785-27f6-467b-824a-4d5d1044bfcd",
   "metadata": {},
   "outputs": [
    {
     "data": {
      "text/plain": [
       "pandas.core.series.Series"
      ]
     },
     "execution_count": 10,
     "metadata": {},
     "output_type": "execute_result"
    }
   ],
   "source": [
    "# Controllo che tipo di dato è \"date\" \n",
    "type(covid[\"date\"])\n"
   ]
  },
  {
   "cell_type": "code",
   "execution_count": 11,
   "id": "e15f4578-1771-4cc6-9ced-882dc49819a7",
   "metadata": {},
   "outputs": [],
   "source": [
    "# Conversione in datetime\n",
    "covid[\"date\"] = pd.to_datetime(covid[\"date\"])"
   ]
  },
  {
   "cell_type": "code",
   "execution_count": 12,
   "id": "2e96a536-2a64-467b-9151-8480a7422f69",
   "metadata": {},
   "outputs": [],
   "source": [
    "# Creo un filtro per i dati realtivi all'Italia nel 2022\n",
    "flt_it_2022 = covid[(covid[\"location\"]==\"Italy\")&(covid[\"date\"].dt.year==2022)]"
   ]
  },
  {
   "cell_type": "code",
   "execution_count": 13,
   "id": "9f958615-9986-4d94-b8d8-9ea45b1ae0e9",
   "metadata": {},
   "outputs": [
    {
     "data": {
      "text/plain": [
       "<Axes: xlabel='date'>"
      ]
     },
     "execution_count": 13,
     "metadata": {},
     "output_type": "execute_result"
    },
    {
     "data": {
      "image/png": "[encoded data removed]",
      "text/plain": [
       "<Figure size 640x480 with 1 Axes>"
      ]
     },
     "metadata": {},
     "output_type": "display_data"
    }
   ],
   "source": [
    "# Evoluzione del casi totali dall'inizio alla fine dell'anno\n",
    "flt_it_2022.plot(x='date', y='total_cases')"
   ]
  },
  {
   "cell_type": "code",
   "execution_count": 14,
   "id": "62f909be-d7be-4c05-a1c8-34576c228fc8",
   "metadata": {},
   "outputs": [
    {
     "data": {
      "text/plain": [
       "<Axes: xlabel='date'>"
      ]
     },
     "execution_count": 14,
     "metadata": {},
     "output_type": "execute_result"
    },
    {
     "data": {
      "image/png": "[encoded data removed]",
      "text/plain": [
       "<Figure size 640x480 with 1 Axes>"
      ]
     },
     "metadata": {},
     "output_type": "display_data"
    }
   ],
   "source": [
    "# Andamento nuovi casi filtrati\n",
    "new_cases_italy = flt_it_2022[flt_it_2022[\"new_cases\"] > 0] # per eliminare i valori in mezzo alla settimana poichè non hanno valore\n",
    "new_cases_italy.plot(x='date', y='new_cases')"
   ]
  },
  {
   "cell_type": "markdown",
   "id": "5a055c47-5610-435f-97e1-b9b0bdd4fdaf",
   "metadata": {},
   "source": [
    "<div style=\"background-color: lightblue; padding: 15px; border-radius: 5px;\">\n",
    "\n",
    "### Riguardo le nazioni di Italia, Germania e Francia mostrare in un boxplot la differenza tra queste nazioni riguardo il numero di pazienti in terapia intensiva (Intensive Care Unit, ICU) da maggio 2022 (incluso) ad aprile 2023 (incluso)\n",
    "- ##### scrivere un breve commento a riguardo"
   ]
  },
  {
   "cell_type": "code",
   "execution_count": 16,
   "id": "5f3ce3db-bdab-4256-890d-b988e53ae3b0",
   "metadata": {},
   "outputs": [
    {
     "data": {
      "text/plain": [
       "<Axes: xlabel='location', ylabel='icu_patients'>"
      ]
     },
     "execution_count": 16,
     "metadata": {},
     "output_type": "execute_result"
    },
    {
     "data": {
      "image/png": "[encoded data removed]",
      "text/plain": [
       "<Figure size 640x480 with 1 Axes>"
      ]
     },
     "metadata": {},
     "output_type": "display_data"
    }
   ],
   "source": [
    "covid_countries = covid[covid[\"location\"].isin([\"Italy\", \"Germany\", \"France\"])  & (covid[\"date\"] >= \"2022-05-01\") & (covid[\"date\"] <= \"2023-04-30\")] \n",
    "covid_countries_clean = covid_countries.dropna(subset=\"icu_patients\")\n",
    "sns.boxplot(x=\"location\", y=\"icu_patients\", data=covid_countries_clean)"
   ]
  },
  {
   "cell_type": "markdown",
   "id": "7a87e3f7-b83d-4c86-8b59-c3461e46aa58",
   "metadata": {},
   "source": [
    "<div style=\"background-color: lightblue; padding: 15px; border-radius: 5px;\">\n",
    "\n",
    "\n",
    "##### Il boxplot raffigura i casi di terapia intensiva in Francia, Germania e Italia da maggio 2022 ad aprile 2023. La Germania mostra la mediana più alta (poco più di 1000 casi), seguita dalla Francia (poco meno di 1000 casi) e dall'Italia (250 casi). La variabilità dei casi è maggiore in Germania e Francia rispetto all'Italia, come indicato dagli intervalli interquartili  e dai baffi. L'Italia ha un numero mediano di casi notevolmente inferiore e meno variabilità."
   ]
  },
  {
   "cell_type": "markdown",
   "id": "de61e431-f03a-4a5a-ac7d-5e7d4c243ec2",
   "metadata": {},
   "source": [
    "<div style=\"background-color: lightblue; padding: 15px; border-radius: 5px;\">\n",
    "\n",
    "### Riguardo le nazioni di Italia, Germania, Francia e Spagna in tutto il 2023: \n",
    "- ##### mostrare la somma dei pazienti ospitalizzati per ognuna \n",
    "- ##### se ci sono dati nulli, con un breve commento scrivere se può essere possibile gestirli tramite sostituzione o meno"
   ]
  },
  {
   "cell_type": "code",
   "execution_count": 19,
   "id": "2aa639e9-2fa8-43d6-afcb-a67dcccf61bd",
   "metadata": {},
   "outputs": [
    {
     "data": {
      "text/plain": [
       "location\n",
       "France     1382574.0\n",
       "Germany          0.0\n",
       "Italy      1175272.0\n",
       "Spain       354602.0\n",
       "Name: hosp_patients, dtype: float64"
      ]
     },
     "execution_count": 19,
     "metadata": {},
     "output_type": "execute_result"
    }
   ],
   "source": [
    "# Somma dei pazienti ospitalizzati per ogni nazione\n",
    "countries = covid[(covid[\"location\"].isin([\"Italy\", \"Germany\", \"France\",\"Spain\"])) & (covid[\"date\"] .dt.year == 2023)]\n",
    "total_hosp_patients = countries.groupby(\"location\")[\"hosp_patients\"].sum()\n",
    "total_hosp_patients"
   ]
  },
  {
   "cell_type": "code",
   "execution_count": 20,
   "id": "1e219ee6-4d38-4b91-8efb-bb91d5ca494e",
   "metadata": {},
   "outputs": [
    {
     "data": {
      "text/plain": [
       "843"
      ]
     },
     "execution_count": 20,
     "metadata": {},
     "output_type": "execute_result"
    }
   ],
   "source": [
    "# totale valori nulli per pazienti ospitalizzati\n",
    "total_hosp_patients = countries[\"hosp_patients\"].isnull().sum()\n",
    "total_hosp_patients"
   ]
  },
  {
   "cell_type": "code",
   "execution_count": 21,
   "id": "ac7cb417-4a0e-4be9-bce4-9473cda484a7",
   "metadata": {},
   "outputs": [
    {
     "data": {
      "text/html": [
       "<div>\n",
       "<style scoped>\n",
       "    .dataframe tbody tr th:only-of-type {\n",
       "        vertical-align: middle;\n",
       "    }\n",
       "\n",
       "    .dataframe tbody tr th {\n",
       "        vertical-align: top;\n",
       "    }\n",
       "\n",
       "    .dataframe thead th {\n",
       "        text-align: right;\n",
       "    }\n",
       "</style>\n",
       "<table border=\"1\" class=\"dataframe\">\n",
       "  <thead>\n",
       "    <tr style=\"text-align: right;\">\n",
       "      <th></th>\n",
       "      <th>location</th>\n",
       "      <th>hosp_patients</th>\n",
       "    </tr>\n",
       "  </thead>\n",
       "  <tbody>\n",
       "    <tr>\n",
       "      <th>131549</th>\n",
       "      <td>France</td>\n",
       "      <td>NaN</td>\n",
       "    </tr>\n",
       "    <tr>\n",
       "      <th>131550</th>\n",
       "      <td>France</td>\n",
       "      <td>NaN</td>\n",
       "    </tr>\n",
       "    <tr>\n",
       "      <th>131551</th>\n",
       "      <td>France</td>\n",
       "      <td>NaN</td>\n",
       "    </tr>\n",
       "    <tr>\n",
       "      <th>131552</th>\n",
       "      <td>France</td>\n",
       "      <td>NaN</td>\n",
       "    </tr>\n",
       "    <tr>\n",
       "      <th>131553</th>\n",
       "      <td>France</td>\n",
       "      <td>NaN</td>\n",
       "    </tr>\n",
       "    <tr>\n",
       "      <th>...</th>\n",
       "      <td>...</td>\n",
       "      <td>...</td>\n",
       "    </tr>\n",
       "    <tr>\n",
       "      <th>364038</th>\n",
       "      <td>Spain</td>\n",
       "      <td>NaN</td>\n",
       "    </tr>\n",
       "    <tr>\n",
       "      <th>364039</th>\n",
       "      <td>Spain</td>\n",
       "      <td>NaN</td>\n",
       "    </tr>\n",
       "    <tr>\n",
       "      <th>364040</th>\n",
       "      <td>Spain</td>\n",
       "      <td>NaN</td>\n",
       "    </tr>\n",
       "    <tr>\n",
       "      <th>364041</th>\n",
       "      <td>Spain</td>\n",
       "      <td>NaN</td>\n",
       "    </tr>\n",
       "    <tr>\n",
       "      <th>364042</th>\n",
       "      <td>Spain</td>\n",
       "      <td>NaN</td>\n",
       "    </tr>\n",
       "  </tbody>\n",
       "</table>\n",
       "<p>843 rows × 2 columns</p>\n",
       "</div>"
      ],
      "text/plain": [
       "       location  hosp_patients\n",
       "131549   France            NaN\n",
       "131550   France            NaN\n",
       "131551   France            NaN\n",
       "131552   France            NaN\n",
       "131553   France            NaN\n",
       "...         ...            ...\n",
       "364038    Spain            NaN\n",
       "364039    Spain            NaN\n",
       "364040    Spain            NaN\n",
       "364041    Spain            NaN\n",
       "364042    Spain            NaN\n",
       "\n",
       "[843 rows x 2 columns]"
      ]
     },
     "execution_count": 21,
     "metadata": {},
     "output_type": "execute_result"
    }
   ],
   "source": [
    "# Vado a stampare i valori nulli per effetturare un analisi\n",
    "flt_nan =  countries.loc[countries[\"hosp_patients\"].isnull(), [\"location\", \"hosp_patients\"]]\n",
    "flt_nan\n",
    "# noto che sono valori consecutivi"
   ]
  },
  {
   "cell_type": "code",
   "execution_count": 22,
   "id": "1b5a54ad-7843-4708-80d7-dad4e9b8d0d4",
   "metadata": {},
   "outputs": [
    {
     "data": {
      "text/plain": [
       "array(['France', 'Germany', 'Spain'], dtype=object)"
      ]
     },
     "execution_count": 22,
     "metadata": {},
     "output_type": "execute_result"
    }
   ],
   "source": [
    "# vado a controllare le nazioni che hanno dei valori nulli\n",
    "flt_nan[\"location\"].unique()\n"
   ]
  },
  {
   "cell_type": "markdown",
   "id": "caf1aac4-d0c4-43d4-b471-ca47f6b9c0f1",
   "metadata": {},
   "source": [
    "<div style=\"background-color: lightblue; padding: 15px; border-radius: 5px;\">\n",
    "\n",
    "##### Dall'analisi effettuata possiamo notare che i valori nulli dei pazienti ospitalizzati è di 843 e che sono tutti consecutivi.\n",
    "##### Possiamo dedurre che probabilmente il numero di pazienti ospitalizzati sia andato a diminuire e di conseguenza che possa essere\n",
    "##### rientrata l'emergenza. In tal senso probabilmente non avrebbe senso andare a sostituire i valori nulli.\n",
    "\n",
    "\n",
    "\n"
   ]
  }
 ],
 "metadata": {
  "kernelspec": {
   "display_name": "Python [conda env:base] *",
   "language": "python",
   "name": "conda-base-py"
  },
  "language_info": {
   "codemirror_mode": {
    "name": "ipython",
    "version": 3
   },
   "file_extension": ".py",
   "mimetype": "text/x-python",
   "name": "python",
   "nbconvert_exporter": "python",
   "pygments_lexer": "ipython3",
   "version": "3.12.7"
  }
 },
 "nbformat": 4,
 "nbformat_minor": 5
}
